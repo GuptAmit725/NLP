{
  "nbformat": 4,
  "nbformat_minor": 0,
  "metadata": {
    "colab": {
      "name": "Embedding_intutition.ipynb",
      "provenance": [],
      "authorship_tag": "ABX9TyNS/Z+BOOnUBjNpYxH9ZSHK",
      "include_colab_link": true
    },
    "kernelspec": {
      "name": "python3",
      "display_name": "Python 3"
    },
    "language_info": {
      "name": "python"
    }
  },
  "cells": [
    {
      "cell_type": "markdown",
      "metadata": {
        "id": "view-in-github",
        "colab_type": "text"
      },
      "source": [
        "<a href=\"https://colab.research.google.com/github/GuptAmit725/NLP/blob/main/Embedding_intutition.ipynb\" target=\"_parent\"><img src=\"https://colab.research.google.com/assets/colab-badge.svg\" alt=\"Open In Colab\"/></a>"
      ]
    },
    {
      "cell_type": "code",
      "metadata": {
        "colab": {
          "base_uri": "https://localhost:8080/"
        },
        "id": "0f1C8dzHKVOT",
        "outputId": "7ff1adfb-32ab-428f-b082-5c6fbb91d32a"
      },
      "source": [
        "import nltk\n",
        "import numpy as np\n",
        "import re\n",
        "import os\n",
        "import string\n",
        "import tensorflow as tf\n",
        "from keras.layers import Input, Dense, Embedding\n",
        "from nltk.corpus import stopwords\n",
        "from nltk.tokenize import word_tokenize\n",
        "\n",
        "nltk.download('stopwords')\n",
        "nltk.download('punkt')"
      ],
      "execution_count": 12,
      "outputs": [
        {
          "output_type": "stream",
          "text": [
            "[nltk_data] Downloading package stopwords to /root/nltk_data...\n",
            "[nltk_data]   Package stopwords is already up-to-date!\n",
            "[nltk_data] Downloading package punkt to /root/nltk_data...\n",
            "[nltk_data]   Package punkt is already up-to-date!\n"
          ],
          "name": "stdout"
        },
        {
          "output_type": "execute_result",
          "data": {
            "text/plain": [
              "True"
            ]
          },
          "metadata": {
            "tags": []
          },
          "execution_count": 12
        }
      ]
    },
    {
      "cell_type": "code",
      "metadata": {
        "id": "egRxCh5gKm31"
      },
      "source": [
        "text = \"\"\"\n",
        "          In human society, family (from Latin: familia) is a \n",
        "          group of people related either by consanguinity \n",
        "          (by recognized birth) or affinity (by marriage or other relationship).\n",
        "          The purpose of families is to maintain the well-being of its members \n",
        "          and of society. Ideally, families would offer predictability, structure, \n",
        "          and safety as members mature and participate in the community.\n",
        "          [1] In most societies, it is within families that children acquire \n",
        "          socialization for life outside the family, and acts as the primary \n",
        "          source of attachment, nurturing, and socialization for humans.\n",
        "          [2][3] Additionally, as the basic unit for meeting the basic needs \n",
        "          of its members, it provides a sense of boundaries for performing tasks \n",
        "          in a safe environment, ideally builds a person into a functional adult, \n",
        "          transmits culture, and ensures continuity of humankind with precedents of knowledge.\n",
        "      \"\"\""
      ],
      "execution_count": 42,
      "outputs": []
    },
    {
      "cell_type": "code",
      "metadata": {
        "colab": {
          "base_uri": "https://localhost:8080/",
          "height": 86
        },
        "id": "pCDZEK47LqfF",
        "outputId": "f0bedace-0a04-422d-d828-ad8eeb246878"
      },
      "source": [
        "def number_to_text(text):\n",
        "  text = text.split()\n",
        "\n",
        "  for i,word in enumerate(text):\n",
        "    if word.isdigit():\n",
        "      text[i] = inf.number_to_words(word)\n",
        "  return \" \".join(text)\n",
        "\n",
        "def remove_punc(text):\n",
        "  translator = str.maketrans(\"\",\"\", string.punctuation)\n",
        "  return text.translate(translator)\n",
        "\n",
        "def remove_stopwords(text):\n",
        "  eng_stopwords = stopwords.words('english')\n",
        "  word_tokens = word_tokenize(text)\n",
        "  text = [i for i in word_tokens if i not in eng_stopwords]\n",
        "\n",
        "  return \" \".join(text)\n",
        "\n",
        "def preprocessing(text):\n",
        "  text = text.lower() #changing the whole text into lower case.\n",
        "  text = re.sub(r'\\d+','', text) #removing numbers fromthe text.\n",
        "  text = number_to_text(text) #converting every number into text.\n",
        "  text = remove_punc(text) # removing all the punctuation in the text.\n",
        "  text = remove_stopwords(text) # removing all the words like the,and,this which are not that important in this context.\n",
        "\n",
        "  return text\n",
        "\n",
        "text = preprocessing(text)\n",
        "text"
      ],
      "execution_count": 43,
      "outputs": [
        {
          "output_type": "execute_result",
          "data": {
            "application/vnd.google.colaboratory.intrinsic+json": {
              "type": "string"
            },
            "text/plain": [
              "'human society family latin familia group people related either consanguinity recognized birth affinity marriage relationship purpose families maintain wellbeing members society ideally families would offer predictability structure safety members mature participate community societies within families children acquire socialization life outside family acts primary source attachment nurturing socialization humans additionally basic unit meeting basic needs members provides sense boundaries performing tasks safe environment ideally builds person functional adult transmits culture ensures continuity humankind precedents knowledge'"
            ]
          },
          "metadata": {
            "tags": []
          },
          "execution_count": 43
        }
      ]
    },
    {
      "cell_type": "code",
      "metadata": {
        "colab": {
          "base_uri": "https://localhost:8080/"
        },
        "id": "DUY-qmGQPqNN",
        "outputId": "c6eac37f-81b2-48d9-c2f4-7b0392c31ed2"
      },
      "source": [
        "len(text)"
      ],
      "execution_count": 44,
      "outputs": [
        {
          "output_type": "execute_result",
          "data": {
            "text/plain": [
              "632"
            ]
          },
          "metadata": {
            "tags": []
          },
          "execution_count": 44
        }
      ]
    },
    {
      "cell_type": "code",
      "metadata": {
        "colab": {
          "base_uri": "https://localhost:8080/"
        },
        "id": "x6XRYoMcQHFb",
        "outputId": "9e4ed4ab-8d54-44d0-dca4-421063483b9d"
      },
      "source": [
        "X = '<start> ' + text\n",
        "Y = text + ' <end>'\n",
        "\n",
        "X,Y"
      ],
      "execution_count": 48,
      "outputs": [
        {
          "output_type": "execute_result",
          "data": {
            "text/plain": [
              "('<start> human society family latin familia group people related either consanguinity recognized birth affinity marriage relationship purpose families maintain wellbeing members society ideally families would offer predictability structure safety members mature participate community societies within families children acquire socialization life outside family acts primary source attachment nurturing socialization humans additionally basic unit meeting basic needs members provides sense boundaries performing tasks safe environment ideally builds person functional adult transmits culture ensures continuity humankind precedents knowledge',\n",
              " 'human society family latin familia group people related either consanguinity recognized birth affinity marriage relationship purpose families maintain wellbeing members society ideally families would offer predictability structure safety members mature participate community societies within families children acquire socialization life outside family acts primary source attachment nurturing socialization humans additionally basic unit meeting basic needs members provides sense boundaries performing tasks safe environment ideally builds person functional adult transmits culture ensures continuity humankind precedents knowledge <end>')"
            ]
          },
          "metadata": {
            "tags": []
          },
          "execution_count": 48
        }
      ]
    },
    {
      "cell_type": "code",
      "metadata": {
        "colab": {
          "base_uri": "https://localhost:8080/"
        },
        "id": "fOFPPFHSWH2w",
        "outputId": "e816fa17-146d-4770-8f6e-96c09eaf108e"
      },
      "source": [
        "len(X.split(' ')),len(Y.split(' '))"
      ],
      "execution_count": 50,
      "outputs": [
        {
          "output_type": "execute_result",
          "data": {
            "text/plain": [
              "(75, 75)"
            ]
          },
          "metadata": {
            "tags": []
          },
          "execution_count": 50
        }
      ]
    },
    {
      "cell_type": "code",
      "metadata": {
        "colab": {
          "base_uri": "https://localhost:8080/"
        },
        "id": "5_G4rKeaSSIG",
        "outputId": "f0d0816d-d528-4c7e-b11a-f5056f1a924c"
      },
      "source": [
        "unique_words = list(set((X+Y).split(' ')))\n",
        "unique_words"
      ],
      "execution_count": 51,
      "outputs": [
        {
          "output_type": "execute_result",
          "data": {
            "text/plain": [
              "['families',\n",
              " 'safe',\n",
              " 'socialization',\n",
              " 'marriage',\n",
              " 'adult',\n",
              " 'basic',\n",
              " 'wellbeing',\n",
              " 'structure',\n",
              " 'precedents',\n",
              " 'continuity',\n",
              " 'children',\n",
              " 'ideally',\n",
              " 'either',\n",
              " 'safety',\n",
              " 'family',\n",
              " 'functional',\n",
              " 'performing',\n",
              " 'recognized',\n",
              " 'mature',\n",
              " 'familia',\n",
              " 'environment',\n",
              " 'would',\n",
              " 'acts',\n",
              " 'humankind',\n",
              " 'source',\n",
              " 'related',\n",
              " 'relationship',\n",
              " 'culture',\n",
              " 'ensures',\n",
              " 'offer',\n",
              " 'birth',\n",
              " 'participate',\n",
              " 'meeting',\n",
              " 'societies',\n",
              " 'tasks',\n",
              " 'latin',\n",
              " 'life',\n",
              " 'knowledgehuman',\n",
              " 'builds',\n",
              " 'humans',\n",
              " 'maintain',\n",
              " 'purpose',\n",
              " 'society',\n",
              " 'additionally',\n",
              " 'unit',\n",
              " 'provides',\n",
              " 'people',\n",
              " 'affinity',\n",
              " '<start>',\n",
              " 'transmits',\n",
              " 'members',\n",
              " 'boundaries',\n",
              " '<end>',\n",
              " 'community',\n",
              " 'human',\n",
              " 'sense',\n",
              " 'outside',\n",
              " 'acquire',\n",
              " 'primary',\n",
              " 'predictability',\n",
              " 'consanguinity',\n",
              " 'within',\n",
              " 'nurturing',\n",
              " 'needs',\n",
              " 'group',\n",
              " 'knowledge',\n",
              " 'person',\n",
              " 'attachment']"
            ]
          },
          "metadata": {
            "tags": []
          },
          "execution_count": 51
        }
      ]
    },
    {
      "cell_type": "code",
      "metadata": {
        "colab": {
          "base_uri": "https://localhost:8080/"
        },
        "id": "uimHJksAReeC",
        "outputId": "b7a24f4c-86d3-4846-990a-41bbf3f8fc67"
      },
      "source": [
        "word_indexing = {words:i for i, words in enumerate(unique_words)}\n",
        "word_indexing"
      ],
      "execution_count": 52,
      "outputs": [
        {
          "output_type": "execute_result",
          "data": {
            "text/plain": [
              "{'<end>': 52,\n",
              " '<start>': 48,\n",
              " 'acquire': 57,\n",
              " 'acts': 22,\n",
              " 'additionally': 43,\n",
              " 'adult': 4,\n",
              " 'affinity': 47,\n",
              " 'attachment': 67,\n",
              " 'basic': 5,\n",
              " 'birth': 30,\n",
              " 'boundaries': 51,\n",
              " 'builds': 38,\n",
              " 'children': 10,\n",
              " 'community': 53,\n",
              " 'consanguinity': 60,\n",
              " 'continuity': 9,\n",
              " 'culture': 27,\n",
              " 'either': 12,\n",
              " 'ensures': 28,\n",
              " 'environment': 20,\n",
              " 'familia': 19,\n",
              " 'families': 0,\n",
              " 'family': 14,\n",
              " 'functional': 15,\n",
              " 'group': 64,\n",
              " 'human': 54,\n",
              " 'humankind': 23,\n",
              " 'humans': 39,\n",
              " 'ideally': 11,\n",
              " 'knowledge': 65,\n",
              " 'knowledgehuman': 37,\n",
              " 'latin': 35,\n",
              " 'life': 36,\n",
              " 'maintain': 40,\n",
              " 'marriage': 3,\n",
              " 'mature': 18,\n",
              " 'meeting': 32,\n",
              " 'members': 50,\n",
              " 'needs': 63,\n",
              " 'nurturing': 62,\n",
              " 'offer': 29,\n",
              " 'outside': 56,\n",
              " 'participate': 31,\n",
              " 'people': 46,\n",
              " 'performing': 16,\n",
              " 'person': 66,\n",
              " 'precedents': 8,\n",
              " 'predictability': 59,\n",
              " 'primary': 58,\n",
              " 'provides': 45,\n",
              " 'purpose': 41,\n",
              " 'recognized': 17,\n",
              " 'related': 25,\n",
              " 'relationship': 26,\n",
              " 'safe': 1,\n",
              " 'safety': 13,\n",
              " 'sense': 55,\n",
              " 'socialization': 2,\n",
              " 'societies': 33,\n",
              " 'society': 42,\n",
              " 'source': 24,\n",
              " 'structure': 7,\n",
              " 'tasks': 34,\n",
              " 'transmits': 49,\n",
              " 'unit': 44,\n",
              " 'wellbeing': 6,\n",
              " 'within': 61,\n",
              " 'would': 21}"
            ]
          },
          "metadata": {
            "tags": []
          },
          "execution_count": 52
        }
      ]
    },
    {
      "cell_type": "code",
      "metadata": {
        "colab": {
          "base_uri": "https://localhost:8080/"
        },
        "id": "cfxkYSU3R-8G",
        "outputId": "e17510fe-a869-4978-dcc3-00b0b35fa611"
      },
      "source": [
        "#Doing one hot encoding \n",
        "def one_hot_encoding(X,Y, word_indexing):\n",
        "\n",
        "  target = [0] * len(Y.split(' '))\n",
        "  ohe_matrix = np.zeros((len(X.split(' ')),len(unique_words)))\n",
        "\n",
        "  for i,word in enumerate(X.split(' ')):\n",
        "    ohe_matrix[i][word_indexing[word]] = 1\n",
        "  for i,word in enumerate(Y.split(' ')):\n",
        "    target[i] = word_indexing[word]\n",
        "\n",
        "  return np.asarray(ohe_matrix), np.asarray(target)\n",
        "\n",
        "x,y = one_hot_encoding(X,Y,word_indexing)\n",
        "x,y"
      ],
      "execution_count": 53,
      "outputs": [
        {
          "output_type": "execute_result",
          "data": {
            "text/plain": [
              "(array([[0., 0., 0., ..., 0., 0., 0.],\n",
              "        [0., 0., 0., ..., 0., 0., 0.],\n",
              "        [0., 0., 0., ..., 0., 0., 0.],\n",
              "        ...,\n",
              "        [0., 0., 0., ..., 0., 0., 0.],\n",
              "        [0., 0., 0., ..., 0., 0., 0.],\n",
              "        [0., 0., 0., ..., 1., 0., 0.]]),\n",
              " array([54, 42, 14, 35, 19, 64, 46, 25, 12, 60, 17, 30, 47,  3, 26, 41,  0,\n",
              "        40,  6, 50, 42, 11,  0, 21, 29, 59,  7, 13, 50, 18, 31, 53, 33, 61,\n",
              "         0, 10, 57,  2, 36, 56, 14, 22, 58, 24, 67, 62,  2, 39, 43,  5, 44,\n",
              "        32,  5, 63, 50, 45, 55, 51, 16, 34,  1, 20, 11, 38, 66, 15,  4, 49,\n",
              "        27, 28,  9, 23,  8, 65, 52]))"
            ]
          },
          "metadata": {
            "tags": []
          },
          "execution_count": 53
        }
      ]
    },
    {
      "cell_type": "code",
      "metadata": {
        "colab": {
          "base_uri": "https://localhost:8080/"
        },
        "id": "2hFDg94RViEE",
        "outputId": "73ee7979-f610-4b7e-beb7-c1c631f0e4c4"
      },
      "source": [
        "x.shape, y.shape"
      ],
      "execution_count": 54,
      "outputs": [
        {
          "output_type": "execute_result",
          "data": {
            "text/plain": [
              "((75, 68), (75,))"
            ]
          },
          "metadata": {
            "tags": []
          },
          "execution_count": 54
        }
      ]
    },
    {
      "cell_type": "code",
      "metadata": {
        "id": "uED_uZusXqc8"
      },
      "source": [
        "y = tf.keras.utils.to_categorical(y)"
      ],
      "execution_count": 57,
      "outputs": []
    },
    {
      "cell_type": "code",
      "metadata": {
        "colab": {
          "base_uri": "https://localhost:8080/"
        },
        "id": "nJRDwl5mX8tg",
        "outputId": "06c54fad-06cd-4678-e505-6a63a4ea7702"
      },
      "source": [
        "y.shape"
      ],
      "execution_count": 58,
      "outputs": [
        {
          "output_type": "execute_result",
          "data": {
            "text/plain": [
              "(75, 68)"
            ]
          },
          "metadata": {
            "tags": []
          },
          "execution_count": 58
        }
      ]
    },
    {
      "cell_type": "markdown",
      "metadata": {
        "id": "hgHPCIU8i2sd"
      },
      "source": [
        "This is the dummy model, it's purpose is to showcase how the embedding works and the working of the algorithms like Word2Vec. The same logic goes with BERT models not exactly but can be related to."
      ]
    },
    {
      "cell_type": "code",
      "metadata": {
        "colab": {
          "base_uri": "https://localhost:8080/"
        },
        "id": "4koVYDO5YAwb",
        "outputId": "e947bb4d-e034-4206-edbd-087d2a9a343b"
      },
      "source": [
        "embedding_size = 10\n",
        "\n",
        "input = Input(shape=(x.shape[1],))\n",
        "o = Dense(x.shape[0])(input)\n",
        "o = Dense(embedding_size)(o)\n",
        "o = Dense(y.shape[1], activation='softmax')(o)\n",
        "\n",
        "model = tf.keras.models.Model(inputs = input, outputs = o)\n",
        "\n",
        "model.summary()"
      ],
      "execution_count": 86,
      "outputs": [
        {
          "output_type": "stream",
          "text": [
            "Model: \"model_2\"\n",
            "_________________________________________________________________\n",
            "Layer (type)                 Output Shape              Param #   \n",
            "=================================================================\n",
            "input_4 (InputLayer)         [(None, 68)]              0         \n",
            "_________________________________________________________________\n",
            "dense_12 (Dense)             (None, 75)                5175      \n",
            "_________________________________________________________________\n",
            "dense_13 (Dense)             (None, 10)                760       \n",
            "_________________________________________________________________\n",
            "dense_14 (Dense)             (None, 68)                748       \n",
            "=================================================================\n",
            "Total params: 6,683\n",
            "Trainable params: 6,683\n",
            "Non-trainable params: 0\n",
            "_________________________________________________________________\n"
          ],
          "name": "stdout"
        }
      ]
    },
    {
      "cell_type": "code",
      "metadata": {
        "id": "L9pHno5KZnQC"
      },
      "source": [
        "model.compile(optimizer='adam', loss = 'categorical_crossentropy', metrics=['accuracy'])"
      ],
      "execution_count": 87,
      "outputs": []
    },
    {
      "cell_type": "code",
      "metadata": {
        "colab": {
          "base_uri": "https://localhost:8080/"
        },
        "id": "PxNEN4w1Z9aP",
        "outputId": "1319f5a9-9bfb-4dd6-de1c-e53d12979b0e"
      },
      "source": [
        "model.fit(x=x , y = y , batch_size = 1 , epochs=10)"
      ],
      "execution_count": 88,
      "outputs": [
        {
          "output_type": "stream",
          "text": [
            "Epoch 1/10\n",
            "75/75 [==============================] - 1s 1ms/step - loss: 4.2312 - accuracy: 0.0042\n",
            "Epoch 2/10\n",
            "75/75 [==============================] - 0s 1ms/step - loss: 4.1573 - accuracy: 0.0384\n",
            "Epoch 3/10\n",
            "75/75 [==============================] - 0s 1ms/step - loss: 4.0712 - accuracy: 0.2337\n",
            "Epoch 4/10\n",
            "75/75 [==============================] - 0s 1ms/step - loss: 4.0229 - accuracy: 0.1861\n",
            "Epoch 5/10\n",
            "75/75 [==============================] - 0s 1ms/step - loss: 3.9197 - accuracy: 0.3484\n",
            "Epoch 6/10\n",
            "75/75 [==============================] - 0s 1ms/step - loss: 3.8415 - accuracy: 0.3892\n",
            "Epoch 7/10\n",
            "75/75 [==============================] - 0s 1ms/step - loss: 3.6650 - accuracy: 0.4469\n",
            "Epoch 8/10\n",
            "75/75 [==============================] - 0s 2ms/step - loss: 3.4821 - accuracy: 0.4930\n",
            "Epoch 9/10\n",
            "75/75 [==============================] - 0s 2ms/step - loss: 3.3030 - accuracy: 0.5650\n",
            "Epoch 10/10\n",
            "75/75 [==============================] - 0s 1ms/step - loss: 3.1141 - accuracy: 0.5334\n"
          ],
          "name": "stdout"
        },
        {
          "output_type": "execute_result",
          "data": {
            "text/plain": [
              "<tensorflow.python.keras.callbacks.History at 0x7fad9ffdc350>"
            ]
          },
          "metadata": {
            "tags": []
          },
          "execution_count": 88
        }
      ]
    },
    {
      "cell_type": "code",
      "metadata": {
        "colab": {
          "base_uri": "https://localhost:8080/"
        },
        "id": "eEsZnTUQaMUV",
        "outputId": "c2d6e4c4-7af0-4628-828a-89b239d48140"
      },
      "source": [
        "len(model.get_weights()) # so we have 3 layers in the model, for each layer there ares et of weights."
      ],
      "execution_count": 90,
      "outputs": [
        {
          "output_type": "execute_result",
          "data": {
            "text/plain": [
              "6"
            ]
          },
          "metadata": {
            "tags": []
          },
          "execution_count": 90
        }
      ]
    },
    {
      "cell_type": "code",
      "metadata": {
        "colab": {
          "base_uri": "https://localhost:8080/"
        },
        "id": "JoS2eb9ZeAKe",
        "outputId": "1a95cee8-c78a-4e22-e324-4f0b46b79d50"
      },
      "source": [
        "model.get_weights()[0]"
      ],
      "execution_count": 91,
      "outputs": [
        {
          "output_type": "execute_result",
          "data": {
            "text/plain": [
              "array([[-0.16669683,  0.2344408 , -0.23377351, ...,  0.03533343,\n",
              "         0.11361726,  0.0931255 ],\n",
              "       [-0.08715332, -0.13493001, -0.13631353, ..., -0.19904244,\n",
              "         0.01702512, -0.1284566 ],\n",
              "       [ 0.14260162,  0.00508458, -0.16554606, ...,  0.06201083,\n",
              "        -0.19877315,  0.22081424],\n",
              "       ...,\n",
              "       [ 0.01264721,  0.23666687, -0.12678109, ..., -0.06481662,\n",
              "         0.04894131, -0.25976118],\n",
              "       [ 0.1120756 , -0.15921657,  0.13325438, ..., -0.00785686,\n",
              "        -0.09785745, -0.152984  ],\n",
              "       [-0.2627257 , -0.14554088,  0.26959255, ...,  0.17093818,\n",
              "        -0.0730204 , -0.0017926 ]], dtype=float32)"
            ]
          },
          "metadata": {
            "tags": []
          },
          "execution_count": 91
        }
      ]
    },
    {
      "cell_type": "code",
      "metadata": {
        "colab": {
          "base_uri": "https://localhost:8080/"
        },
        "id": "lqokeHvpcldS",
        "outputId": "5c7e0c9e-d457-40e3-cff0-d927cf53d957"
      },
      "source": [
        "#getting the weights of the layer before final output layer.\n",
        "for layer in model.get_weights():\n",
        "  print(layer.shape)"
      ],
      "execution_count": 89,
      "outputs": [
        {
          "output_type": "stream",
          "text": [
            "(68, 75)\n",
            "(75,)\n",
            "(75, 10)\n",
            "(10,)\n",
            "(10, 68)\n",
            "(68,)\n"
          ],
          "name": "stdout"
        }
      ]
    },
    {
      "cell_type": "code",
      "metadata": {
        "colab": {
          "base_uri": "https://localhost:8080/"
        },
        "id": "8y0UWCndc_5x",
        "outputId": "db29d5ba-53b0-4c46-901f-302eaca79a53"
      },
      "source": [
        "#Taking the output of the weights in the layer before last layer. Why?\n",
        "# Because I have defined this layer embedding layer where I can have flexibility to \n",
        "#change the dimension of embedding matrix.\n",
        "word_to_vec = model.get_weights()[2]\n",
        "word_to_vec.shape"
      ],
      "execution_count": 97,
      "outputs": [
        {
          "output_type": "execute_result",
          "data": {
            "text/plain": [
              "(75, 10)"
            ]
          },
          "metadata": {
            "tags": []
          },
          "execution_count": 97
        }
      ]
    },
    {
      "cell_type": "code",
      "metadata": {
        "colab": {
          "base_uri": "https://localhost:8080/"
        },
        "id": "7g5hVzf3eNsB",
        "outputId": "30ff459c-a1fb-482d-c90f-cbd61f4b1746"
      },
      "source": [
        "len(X.split(' ')) \n",
        "# you can see the total words in my corpus\n",
        "#now in the next step going to get us the vector for each \n",
        "#word which is trained on a neural network like Word2Vec."
      ],
      "execution_count": 98,
      "outputs": [
        {
          "output_type": "execute_result",
          "data": {
            "text/plain": [
              "75"
            ]
          },
          "metadata": {
            "tags": []
          },
          "execution_count": 98
        }
      ]
    },
    {
      "cell_type": "code",
      "metadata": {
        "colab": {
          "base_uri": "https://localhost:8080/"
        },
        "id": "D-HEgNzwefbh",
        "outputId": "1214f9ac-7ff2-453e-e2ae-925a421c0a1d"
      },
      "source": [
        "#We have got the weights for each word from model.get_weights() \n",
        "#Now storing the weights as vectors in a dictionary like globe vectors.\n",
        "#word_to_vec = {word:word_to_vec[i] for i, word in enumerate(X.split(' '))}\n",
        "print('The shape of the embedding matrix: ',model.get_weights()[2].shape)\n",
        "word_to_vec['adult']"
      ],
      "execution_count": 103,
      "outputs": [
        {
          "output_type": "stream",
          "text": [
            "The shape of the embedding matrix:  (75, 10)\n"
          ],
          "name": "stdout"
        },
        {
          "output_type": "execute_result",
          "data": {
            "text/plain": [
              "array([ 2.1157727e-01,  9.1998696e-02,  4.2216954e-01, -3.8947314e-02,\n",
              "        3.0391186e-01,  3.4180036e-01,  7.0480369e-02,  3.4955460e-01,\n",
              "        3.6477763e-04, -3.9406410e-01], dtype=float32)"
            ]
          },
          "metadata": {
            "tags": []
          },
          "execution_count": 103
        }
      ]
    },
    {
      "cell_type": "markdown",
      "metadata": {
        "id": "ntQPosyYfnjF"
      },
      "source": [
        "The size of the vectors are determined by passing the embedding_size as parameters in the above defined model."
      ]
    },
    {
      "cell_type": "code",
      "metadata": {
        "id": "5Gghk1lXe0rD"
      },
      "source": [
        ""
      ],
      "execution_count": null,
      "outputs": []
    }
  ]
}