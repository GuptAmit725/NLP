{
  "nbformat": 4,
  "nbformat_minor": 0,
  "metadata": {
    "colab": {
      "name": "Embedding_intutition.ipynb",
      "provenance": [],
      "authorship_tag": "ABX9TyPCNjWfCRARH2IqyaLnXmiz",
      "include_colab_link": true
    },
    "kernelspec": {
      "name": "python3",
      "display_name": "Python 3"
    },
    "language_info": {
      "name": "python"
    }
  },
  "cells": [
    {
      "cell_type": "markdown",
      "metadata": {
        "id": "view-in-github",
        "colab_type": "text"
      },
      "source": [
        "<a href=\"https://colab.research.google.com/github/GuptAmit725/NLP/blob/main/Embedding_intutition.ipynb\" target=\"_parent\"><img src=\"https://colab.research.google.com/assets/colab-badge.svg\" alt=\"Open In Colab\"/></a>"
      ]
    },
    {
      "cell_type": "markdown",
      "metadata": {
        "id": "kb_Kk4RFjwVA"
      },
      "source": [
        "<h2><I>Importing all the necessary libraries"
      ]
    },
    {
      "cell_type": "code",
      "metadata": {
        "colab": {
          "base_uri": "https://localhost:8080/"
        },
        "id": "0f1C8dzHKVOT",
        "outputId": "7ff1adfb-32ab-428f-b082-5c6fbb91d32a"
      },
      "source": [
        "import nltk\n",
        "import numpy as np\n",
        "import re\n",
        "import os\n",
        "import string\n",
        "import tensorflow as tf\n",
        "from keras.layers import Input, Dense, Embedding\n",
        "from nltk.corpus import stopwords\n",
        "from nltk.tokenize import word_tokenize\n",
        "\n",
        "nltk.download('stopwords')\n",
        "nltk.download('punkt')"
      ],
      "execution_count": 12,
      "outputs": [
        {
          "output_type": "stream",
          "text": [
            "[nltk_data] Downloading package stopwords to /root/nltk_data...\n",
            "[nltk_data]   Package stopwords is already up-to-date!\n",
            "[nltk_data] Downloading package punkt to /root/nltk_data...\n",
            "[nltk_data]   Package punkt is already up-to-date!\n"
          ],
          "name": "stdout"
        },
        {
          "output_type": "execute_result",
          "data": {
            "text/plain": [
              "True"
            ]
          },
          "metadata": {
            "tags": []
          },
          "execution_count": 12
        }
      ]
    },
    {
      "cell_type": "code",
      "metadata": {
        "id": "egRxCh5gKm31"
      },
      "source": [
        "text = \"\"\"\n",
        "          In human society, family (from Latin: familia) is a \n",
        "          group of people related either by consanguinity \n",
        "          (by recognized birth) or affinity (by marriage or other relationship).\n",
        "          The purpose of families is to maintain the well-being of its members \n",
        "          and of society. Ideally, families would offer predictability, structure, \n",
        "          and safety as members mature and participate in the community.\n",
        "          [1] In most societies, it is within families that children acquire \n",
        "          socialization for life outside the family, and acts as the primary \n",
        "          source of attachment, nurturing, and socialization for humans.\n",
        "          [2][3] Additionally, as the basic unit for meeting the basic needs \n",
        "          of its members, it provides a sense of boundaries for performing tasks \n",
        "          in a safe environment, ideally builds a person into a functional adult, \n",
        "          transmits culture, and ensures continuity of humankind with precedents of knowledge.\n",
        "      \"\"\""
      ],
      "execution_count": 42,
      "outputs": []
    },
    {
      "cell_type": "markdown",
      "metadata": {
        "id": "vYtk4sQBj3yj"
      },
      "source": [
        "<h2><I>Defining the text preprocessing block"
      ]
    },
    {
      "cell_type": "code",
      "metadata": {
        "colab": {
          "base_uri": "https://localhost:8080/",
          "height": 86
        },
        "id": "pCDZEK47LqfF",
        "outputId": "f0bedace-0a04-422d-d828-ad8eeb246878"
      },
      "source": [
        "def number_to_text(text):\n",
        "  text = text.split()\n",
        "\n",
        "  for i,word in enumerate(text):\n",
        "    if word.isdigit():\n",
        "      text[i] = inf.number_to_words(word)\n",
        "  return \" \".join(text)\n",
        "\n",
        "def remove_punc(text):\n",
        "  translator = str.maketrans(\"\",\"\", string.punctuation)\n",
        "  return text.translate(translator)\n",
        "\n",
        "def remove_stopwords(text):\n",
        "  eng_stopwords = stopwords.words('english')\n",
        "  word_tokens = word_tokenize(text)\n",
        "  text = [i for i in word_tokens if i not in eng_stopwords]\n",
        "\n",
        "  return \" \".join(text)\n",
        "\n",
        "def preprocessing(text):\n",
        "  text = text.lower() #changing the whole text into lower case.\n",
        "  text = re.sub(r'\\d+','', text) #removing numbers fromthe text.\n",
        "  text = number_to_text(text) #converting every number into text.\n",
        "  text = remove_punc(text) # removing all the punctuation in the text.\n",
        "  text = remove_stopwords(text) # removing all the words like the,and,this which are not that important in this context.\n",
        "\n",
        "  return text\n",
        "\n",
        "text = preprocessing(text)\n",
        "text"
      ],
      "execution_count": 43,
      "outputs": [
        {
          "output_type": "execute_result",
          "data": {
            "application/vnd.google.colaboratory.intrinsic+json": {
              "type": "string"
            },
            "text/plain": [
              "'human society family latin familia group people related either consanguinity recognized birth affinity marriage relationship purpose families maintain wellbeing members society ideally families would offer predictability structure safety members mature participate community societies within families children acquire socialization life outside family acts primary source attachment nurturing socialization humans additionally basic unit meeting basic needs members provides sense boundaries performing tasks safe environment ideally builds person functional adult transmits culture ensures continuity humankind precedents knowledge'"
            ]
          },
          "metadata": {
            "tags": []
          },
          "execution_count": 43
        }
      ]
    },
    {
      "cell_type": "code",
      "metadata": {
        "colab": {
          "base_uri": "https://localhost:8080/"
        },
        "id": "DUY-qmGQPqNN",
        "outputId": "c6eac37f-81b2-48d9-c2f4-7b0392c31ed2"
      },
      "source": [
        "len(text)"
      ],
      "execution_count": 44,
      "outputs": [
        {
          "output_type": "execute_result",
          "data": {
            "text/plain": [
              "632"
            ]
          },
          "metadata": {
            "tags": []
          },
          "execution_count": 44
        }
      ]
    },
    {
      "cell_type": "code",
      "metadata": {
        "colab": {
          "base_uri": "https://localhost:8080/"
        },
        "id": "x6XRYoMcQHFb",
        "outputId": "9e4ed4ab-8d54-44d0-dca4-421063483b9d"
      },
      "source": [
        "X = '<start> ' + text\n",
        "Y = text + ' <end>'\n",
        "\n",
        "X,Y"
      ],
      "execution_count": 48,
      "outputs": [
        {
          "output_type": "execute_result",
          "data": {
            "text/plain": [
              "('<start> human society family latin familia group people related either consanguinity recognized birth affinity marriage relationship purpose families maintain wellbeing members society ideally families would offer predictability structure safety members mature participate community societies within families children acquire socialization life outside family acts primary source attachment nurturing socialization humans additionally basic unit meeting basic needs members provides sense boundaries performing tasks safe environment ideally builds person functional adult transmits culture ensures continuity humankind precedents knowledge',\n",
              " 'human society family latin familia group people related either consanguinity recognized birth affinity marriage relationship purpose families maintain wellbeing members society ideally families would offer predictability structure safety members mature participate community societies within families children acquire socialization life outside family acts primary source attachment nurturing socialization humans additionally basic unit meeting basic needs members provides sense boundaries performing tasks safe environment ideally builds person functional adult transmits culture ensures continuity humankind precedents knowledge <end>')"
            ]
          },
          "metadata": {
            "tags": []
          },
          "execution_count": 48
        }
      ]
    },
    {
      "cell_type": "code",
      "metadata": {
        "colab": {
          "base_uri": "https://localhost:8080/"
        },
        "id": "fOFPPFHSWH2w",
        "outputId": "e816fa17-146d-4770-8f6e-96c09eaf108e"
      },
      "source": [
        "len(X.split(' ')),len(Y.split(' '))"
      ],
      "execution_count": 50,
      "outputs": [
        {
          "output_type": "execute_result",
          "data": {
            "text/plain": [
              "(75, 75)"
            ]
          },
          "metadata": {
            "tags": []
          },
          "execution_count": 50
        }
      ]
    },
    {
      "cell_type": "code",
      "metadata": {
        "id": "5_G4rKeaSSIG"
      },
      "source": [
        "unique_words = list(set((X+Y).split(' '))) # getting all the unique words in the corpus.\n",
        "unique_words"
      ],
      "execution_count": null,
      "outputs": []
    },
    {
      "cell_type": "code",
      "metadata": {
        "id": "uimHJksAReeC"
      },
      "source": [
        "word_indexing = {words:i for i, words in enumerate(unique_words)} #indexing the unique words with numbers.\n",
        "word_indexing"
      ],
      "execution_count": null,
      "outputs": []
    },
    {
      "cell_type": "code",
      "metadata": {
        "id": "cfxkYSU3R-8G"
      },
      "source": [
        "#Doing one hot encoding \n",
        "def one_hot_encoding(X,Y, word_indexing):\n",
        "\n",
        "  target = [0] * len(Y.split(' '))\n",
        "  ohe_matrix = np.zeros((len(X.split(' ')),len(unique_words)))\n",
        "\n",
        "  for i,word in enumerate(X.split(' ')):\n",
        "    ohe_matrix[i][word_indexing[word]] = 1\n",
        "  for i,word in enumerate(Y.split(' ')):\n",
        "    target[i] = word_indexing[word]\n",
        "\n",
        "  return np.asarray(ohe_matrix), np.asarray(target)\n",
        "\n",
        "x,y = one_hot_encoding(X,Y,word_indexing)\n",
        "x,y"
      ],
      "execution_count": null,
      "outputs": []
    },
    {
      "cell_type": "code",
      "metadata": {
        "id": "2hFDg94RViEE"
      },
      "source": [
        "x.shape, y.shape"
      ],
      "execution_count": null,
      "outputs": []
    },
    {
      "cell_type": "code",
      "metadata": {
        "id": "uED_uZusXqc8"
      },
      "source": [
        "y = tf.keras.utils.to_categorical(y)"
      ],
      "execution_count": 57,
      "outputs": []
    },
    {
      "cell_type": "code",
      "metadata": {
        "id": "nJRDwl5mX8tg"
      },
      "source": [
        "y.shape"
      ],
      "execution_count": null,
      "outputs": []
    },
    {
      "cell_type": "markdown",
      "metadata": {
        "id": "hgHPCIU8i2sd"
      },
      "source": [
        "This is the dummy model, it's purpose is to showcase how the embedding works and the working of the algorithms like Word2Vec. The same logic goes with BERT models not exactly but can be related to."
      ]
    },
    {
      "cell_type": "code",
      "metadata": {
        "id": "4koVYDO5YAwb"
      },
      "source": [
        "embedding_size = 10\n",
        "\n",
        "input = Input(shape=(x.shape[1],))\n",
        "o = Dense(x.shape[0])(input)\n",
        "o = Dense(embedding_size)(o)\n",
        "o = Dense(y.shape[1], activation='softmax')(o)\n",
        "\n",
        "model = tf.keras.models.Model(inputs = input, outputs = o)\n",
        "\n",
        "model.summary()"
      ],
      "execution_count": null,
      "outputs": []
    },
    {
      "cell_type": "code",
      "metadata": {
        "id": "L9pHno5KZnQC"
      },
      "source": [
        "model.compile(optimizer='adam', loss = 'categorical_crossentropy', metrics=['accuracy'])"
      ],
      "execution_count": 87,
      "outputs": []
    },
    {
      "cell_type": "code",
      "metadata": {
        "id": "PxNEN4w1Z9aP"
      },
      "source": [
        "model.fit(x=x , y = y , batch_size = 1 , epochs=10)"
      ],
      "execution_count": null,
      "outputs": []
    },
    {
      "cell_type": "code",
      "metadata": {
        "id": "eEsZnTUQaMUV"
      },
      "source": [
        "len(model.get_weights()) # so we have 3 layers in the model, for each layer there ares et of weights."
      ],
      "execution_count": null,
      "outputs": []
    },
    {
      "cell_type": "code",
      "metadata": {
        "id": "JoS2eb9ZeAKe"
      },
      "source": [
        "model.get_weights()[0]"
      ],
      "execution_count": null,
      "outputs": []
    },
    {
      "cell_type": "code",
      "metadata": {
        "id": "lqokeHvpcldS"
      },
      "source": [
        "#getting the weights of the layer before final output layer.\n",
        "for layer in model.get_weights():\n",
        "  print(layer.shape)"
      ],
      "execution_count": null,
      "outputs": []
    },
    {
      "cell_type": "code",
      "metadata": {
        "id": "8y0UWCndc_5x"
      },
      "source": [
        "#Taking the output of the weights in the layer before last layer. Why?\n",
        "# Because I have defined this layer embedding layer where I can have flexibility to \n",
        "#change the dimension of embedding matrix.\n",
        "word_to_vec = model.get_weights()[2]\n",
        "word_to_vec.shape"
      ],
      "execution_count": null,
      "outputs": []
    },
    {
      "cell_type": "code",
      "metadata": {
        "id": "7g5hVzf3eNsB"
      },
      "source": [
        "len(X.split(' ')) \n",
        "# you can see the total words in my corpus\n",
        "#now in the next step going to get us the vector for each \n",
        "#word which is trained on a neural network like Word2Vec."
      ],
      "execution_count": null,
      "outputs": []
    },
    {
      "cell_type": "code",
      "metadata": {
        "colab": {
          "base_uri": "https://localhost:8080/"
        },
        "id": "D-HEgNzwefbh",
        "outputId": "1214f9ac-7ff2-453e-e2ae-925a421c0a1d"
      },
      "source": [
        "#We have got the weights for each word from model.get_weights() \n",
        "#Now storing the weights as vectors in a dictionary like globe vectors.\n",
        "#word_to_vec = {word:word_to_vec[i] for i, word in enumerate(X.split(' '))}\n",
        "print('The shape of the embedding matrix: ',model.get_weights()[2].shape)\n",
        "word_to_vec['adult']"
      ],
      "execution_count": 103,
      "outputs": [
        {
          "output_type": "stream",
          "text": [
            "The shape of the embedding matrix:  (75, 10)\n"
          ],
          "name": "stdout"
        },
        {
          "output_type": "execute_result",
          "data": {
            "text/plain": [
              "array([ 2.1157727e-01,  9.1998696e-02,  4.2216954e-01, -3.8947314e-02,\n",
              "        3.0391186e-01,  3.4180036e-01,  7.0480369e-02,  3.4955460e-01,\n",
              "        3.6477763e-04, -3.9406410e-01], dtype=float32)"
            ]
          },
          "metadata": {
            "tags": []
          },
          "execution_count": 103
        }
      ]
    },
    {
      "cell_type": "markdown",
      "metadata": {
        "id": "ntQPosyYfnjF"
      },
      "source": [
        "The size of the vectors are determined by passing the embedding_size as parameters in the above defined model."
      ]
    },
    {
      "cell_type": "code",
      "metadata": {
        "id": "5Gghk1lXe0rD"
      },
      "source": [
        ""
      ],
      "execution_count": null,
      "outputs": []
    }
  ]
}