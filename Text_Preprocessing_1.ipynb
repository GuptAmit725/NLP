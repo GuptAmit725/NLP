{
  "nbformat": 4,
  "nbformat_minor": 0,
  "metadata": {
    "colab": {
      "name": "Text_Preprocessing.ipynb",
      "provenance": [],
      "authorship_tag": "ABX9TyMswcKLfgPMJRrO9b3j7V/7",
      "include_colab_link": true
    },
    "kernelspec": {
      "name": "python3",
      "display_name": "Python 3"
    },
    "language_info": {
      "name": "python"
    }
  },
  "cells": [
    {
      "cell_type": "markdown",
      "metadata": {
        "id": "view-in-github",
        "colab_type": "text"
      },
      "source": [
        "<a href=\"https://colab.research.google.com/github/GuptAmit725/NLP/blob/main/Text_Preprocessing_1.ipynb\" target=\"_parent\"><img src=\"https://colab.research.google.com/assets/colab-badge.svg\" alt=\"Open In Colab\"/></a>"
      ]
    },
    {
      "cell_type": "markdown",
      "metadata": {
        "id": "liCb8RcgPdDR"
      },
      "source": [
        "<h1><I>NLTK"
      ]
    },
    {
      "cell_type": "code",
      "metadata": {
        "id": "sShldUXJPbXF"
      },
      "source": [
        "import nltk\n",
        "import string\n",
        "import re\n",
        "import os"
      ],
      "execution_count": 1,
      "outputs": []
    },
    {
      "cell_type": "markdown",
      "metadata": {
        "id": "BxLgnd6a64gF"
      },
      "source": [
        "<h2>1.Text Lowercase"
      ]
    },
    {
      "cell_type": "code",
      "metadata": {
        "id": "6qfU6UHXStV2",
        "colab": {
          "base_uri": "https://localhost:8080/"
        },
        "outputId": "e6528e80-aa34-4b2a-ab51-3e720b6eff36"
      },
      "source": [
        "def lowercase(text):\n",
        "  return text.lower()\n",
        "print(lowercase('AMIT'))  "
      ],
      "execution_count": 2,
      "outputs": [
        {
          "output_type": "stream",
          "text": [
            "amit\n"
          ],
          "name": "stdout"
        }
      ]
    },
    {
      "cell_type": "markdown",
      "metadata": {
        "id": "BxXokYCG7LCU"
      },
      "source": [
        "<h2>2.Removing numbers from the text."
      ]
    },
    {
      "cell_type": "code",
      "metadata": {
        "colab": {
          "base_uri": "https://localhost:8080/"
        },
        "id": "t1KF4Zj-7JgC",
        "outputId": "c798e8fe-bb8d-4aa2-b657-96887fe251f0"
      },
      "source": [
        "def remove_numbers(text):\n",
        "  text = lowercase(text)\n",
        "  text = re.sub(r'\\d+', '', text)\n",
        "  return text\n",
        "\n",
        "print(remove_numbers('Hi I am Amit725 and I am  25 years old.'))"
      ],
      "execution_count": 6,
      "outputs": [
        {
          "output_type": "stream",
          "text": [
            "hi i am amit and i am   years old.\n"
          ],
          "name": "stdout"
        }
      ]
    },
    {
      "cell_type": "markdown",
      "metadata": {
        "id": "A79q87XJ9INE"
      },
      "source": [
        "<h2>3.Convert intergers into text."
      ]
    },
    {
      "cell_type": "code",
      "metadata": {
        "colab": {
          "base_uri": "https://localhost:8080/"
        },
        "id": "KPMlDZQy7wna",
        "outputId": "47024faa-63b7-41d0-d0f9-77df25c813da"
      },
      "source": [
        "import inflect\n",
        "inf = inflect.engine()\n",
        "\n",
        "def number_to_text(text):\n",
        "  text = lowercase(text)\n",
        "  text = text.split()\n",
        "\n",
        "  for i,word in enumerate(text):\n",
        "    if word.isdigit():\n",
        "      text[i] = inf.number_to_words(word)\n",
        "  return \" \".join(text)\n",
        "\n",
        "print(number_to_text('I bought 42 candles for Christmas.'))"
      ],
      "execution_count": 12,
      "outputs": [
        {
          "output_type": "stream",
          "text": [
            "i bought forty-two candles for christmas.\n"
          ],
          "name": "stdout"
        }
      ]
    },
    {
      "cell_type": "markdown",
      "metadata": {
        "id": "GF7sfLBs_tq3"
      },
      "source": [
        "<h2>4. Remove punctuation"
      ]
    },
    {
      "cell_type": "code",
      "metadata": {
        "colab": {
          "base_uri": "https://localhost:8080/"
        },
        "id": "ddHHJnm29W7y",
        "outputId": "125c00ed-8c4c-4ac2-817f-e8346035d77a"
      },
      "source": [
        "def remove_punc(text):\n",
        "  text = number_to_text(text)\n",
        "  translator = str.maketrans(\"\",\"\", string.punctuation)\n",
        "  return text.translate(translator)\n",
        "\n",
        "text = '''Hi! how can \n",
        "          I help    you?. I know,\n",
        "          we can            make it happen. \n",
        "          You have total of 5 students.\n",
        "        '''\n",
        "print(remove_punc(text))"
      ],
      "execution_count": 21,
      "outputs": [
        {
          "output_type": "stream",
          "text": [
            "hi how can i help you i know we can make it happen you have total of five students\n"
          ],
          "name": "stdout"
        }
      ]
    },
    {
      "cell_type": "markdown",
      "metadata": {
        "id": "xIH9MuM7BWGt"
      },
      "source": [
        "<h2>5. Removing Stop words"
      ]
    },
    {
      "cell_type": "code",
      "metadata": {
        "colab": {
          "base_uri": "https://localhost:8080/"
        },
        "id": "CwdwModFAcXu",
        "outputId": "94f2785e-a9d5-4b92-de1c-1480e357e325"
      },
      "source": [
        "from nltk.corpus import stopwords\n",
        "from nltk.tokenize import word_tokenize\n",
        "\n",
        "nltk.download('stopwords')\n",
        "nltk.download('punkt')"
      ],
      "execution_count": 23,
      "outputs": [
        {
          "output_type": "stream",
          "text": [
            "[nltk_data] Downloading package stopwords to /root/nltk_data...\n",
            "[nltk_data]   Unzipping corpora/stopwords.zip.\n",
            "[nltk_data] Downloading package punkt to /root/nltk_data...\n",
            "[nltk_data]   Unzipping tokenizers/punkt.zip.\n"
          ],
          "name": "stdout"
        },
        {
          "output_type": "execute_result",
          "data": {
            "text/plain": [
              "True"
            ]
          },
          "metadata": {
            "tags": []
          },
          "execution_count": 23
        }
      ]
    },
    {
      "cell_type": "code",
      "metadata": {
        "colab": {
          "base_uri": "https://localhost:8080/"
        },
        "id": "CKU6ujlsBvyZ",
        "outputId": "44ba085b-4610-40c9-9acf-0175fa01cd26"
      },
      "source": [
        "def remove_stopwords(text):\n",
        "  text = remove_punc(text)\n",
        "  eng_stopwords = stopwords.words('english')\n",
        "  word_tokens = word_tokenize(text)\n",
        "  print(word_tokens)\n",
        "  text = [i for i in word_tokens if i not in eng_stopwords]\n",
        "\n",
        "  return \" \".join(text)\n",
        "text = '''\n",
        "          Hi! all, how are         you? \n",
        "          I hope     you all are doing great.\n",
        "          This is 12-02-2021. The time which \n",
        "          is known for it's simplicity.\n",
        "        '''\n",
        "print(remove_stopwords(text))"
      ],
      "execution_count": 29,
      "outputs": [
        {
          "output_type": "stream",
          "text": [
            "['hi', 'all', 'how', 'are', 'you', 'i', 'hope', 'you', 'all', 'are', 'doing', 'great', 'this', 'is', '12022021', 'the', 'time', 'which', 'is', 'known', 'for', 'its', 'simplicity']\n",
            "hi hope great 12022021 time known simplicity\n"
          ],
          "name": "stdout"
        }
      ]
    },
    {
      "cell_type": "code",
      "metadata": {
        "colab": {
          "base_uri": "https://localhost:8080/"
        },
        "id": "ryrUoH1OQEfY",
        "outputId": "d6fa0665-2f09-4ec5-fbb7-8cdedb1f59b6"
      },
      "source": [
        "print(stopwords.words('english'))"
      ],
      "execution_count": 46,
      "outputs": [
        {
          "output_type": "stream",
          "text": [
            "['i', 'me', 'my', 'myself', 'we', 'our', 'ours', 'ourselves', 'you', \"you're\", \"you've\", \"you'll\", \"you'd\", 'your', 'yours', 'yourself', 'yourselves', 'he', 'him', 'his', 'himself', 'she', \"she's\", 'her', 'hers', 'herself', 'it', \"it's\", 'its', 'itself', 'they', 'them', 'their', 'theirs', 'themselves', 'what', 'which', 'who', 'whom', 'this', 'that', \"that'll\", 'these', 'those', 'am', 'is', 'are', 'was', 'were', 'be', 'been', 'being', 'have', 'has', 'had', 'having', 'do', 'does', 'did', 'doing', 'a', 'an', 'the', 'and', 'but', 'if', 'or', 'because', 'as', 'until', 'while', 'of', 'at', 'by', 'for', 'with', 'about', 'against', 'between', 'into', 'through', 'during', 'before', 'after', 'above', 'below', 'to', 'from', 'up', 'down', 'in', 'out', 'on', 'off', 'over', 'under', 'again', 'further', 'then', 'once', 'here', 'there', 'when', 'where', 'why', 'how', 'all', 'any', 'both', 'each', 'few', 'more', 'most', 'other', 'some', 'such', 'no', 'nor', 'not', 'only', 'own', 'same', 'so', 'than', 'too', 'very', 's', 't', 'can', 'will', 'just', 'don', \"don't\", 'should', \"should've\", 'now', 'd', 'll', 'm', 'o', 're', 've', 'y', 'ain', 'aren', \"aren't\", 'couldn', \"couldn't\", 'didn', \"didn't\", 'doesn', \"doesn't\", 'hadn', \"hadn't\", 'hasn', \"hasn't\", 'haven', \"haven't\", 'isn', \"isn't\", 'ma', 'mightn', \"mightn't\", 'mustn', \"mustn't\", 'needn', \"needn't\", 'shan', \"shan't\", 'shouldn', \"shouldn't\", 'wasn', \"wasn't\", 'weren', \"weren't\", 'won', \"won't\", 'wouldn', \"wouldn't\"]\n"
          ],
          "name": "stdout"
        }
      ]
    },
    {
      "cell_type": "markdown",
      "metadata": {
        "id": "JUT5YBUhS0Hh"
      },
      "source": [
        "<h2><I>6. Stemming"
      ]
    },
    {
      "cell_type": "code",
      "metadata": {
        "colab": {
          "base_uri": "https://localhost:8080/"
        },
        "id": "q9vl-hpIRSyE",
        "outputId": "6ff594c7-2460-45c8-ca25-fbb417d715fa"
      },
      "source": [
        "from nltk.stem.porter import PorterStemmer\n",
        "from nltk.tokenize import word_tokenize\n",
        "Stem = PorterStemmer()\n",
        "\n",
        "text = '''\n",
        "          Hi! all, how are         you? \n",
        "          I hope     you all are doing great.\n",
        "          This is 12-02-2021. The time which \n",
        "          is known for it's simply a reading a good book.\n",
        "        '''\n",
        "\n",
        "def stemming(text):\n",
        "  text = number_to_text(text)\n",
        "  text = {i:Stem.stem(i) for i in text.split()}\n",
        "\n",
        "  return text\n",
        "\n",
        "print(stemming(text))"
      ],
      "execution_count": 55,
      "outputs": [
        {
          "output_type": "stream",
          "text": [
            "{'hi!': 'hi!', 'all,': 'all,', 'how': 'how', 'are': 'are', 'you?': 'you?', 'i': 'i', 'hope': 'hope', 'you': 'you', 'all': 'all', 'doing': 'do', 'great.': 'great.', 'this': 'thi', 'is': 'is', '12-02-2021.': '12-02-2021.', 'the': 'the', 'time': 'time', 'which': 'which', 'known': 'known', 'for': 'for', \"it's\": \"it'\", 'simply': 'simpli', 'a': 'a', 'reading': 'read', 'good': 'good', 'book.': 'book.'}\n"
          ],
          "name": "stdout"
        }
      ]
    },
    {
      "cell_type": "markdown",
      "metadata": {
        "id": "6-hunR9OWzqt"
      },
      "source": [
        "<h2>7.POS tagging"
      ]
    },
    {
      "cell_type": "code",
      "metadata": {
        "colab": {
          "base_uri": "https://localhost:8080/"
        },
        "id": "m7BCWuSOTB3x",
        "outputId": "570b7b26-8085-419d-a837-69046c295fa3"
      },
      "source": [
        "from nltk.tokenize import word_tokenize\n",
        "from nltk import pos_tag\n",
        "nltk.download('averaged_perceptron_tagger')\n",
        "\n",
        "def pos_tagging(text):\n",
        "  text = number_to_text(text)\n",
        "  tokens = word_tokenize(text)\n",
        "  text = pos_tag(tokens)\n",
        "\n",
        "  return text\n",
        "\n",
        "print(pos_tagging(text))  "
      ],
      "execution_count": 61,
      "outputs": [
        {
          "output_type": "stream",
          "text": [
            "[nltk_data] Downloading package averaged_perceptron_tagger to\n",
            "[nltk_data]     /root/nltk_data...\n",
            "[nltk_data]   Package averaged_perceptron_tagger is already up-to-\n",
            "[nltk_data]       date!\n",
            "[('hi', 'NN'), ('!', '.'), ('all', 'DT'), (',', ','), ('how', 'WRB'), ('are', 'VBP'), ('you', 'PRP'), ('?', '.'), ('i', 'VB'), ('hope', 'VBP'), ('you', 'PRP'), ('all', 'DT'), ('are', 'VBP'), ('doing', 'VBG'), ('great', 'JJ'), ('.', '.'), ('this', 'DT'), ('is', 'VBZ'), ('12-02-2021.', 'JJ'), ('the', 'DT'), ('time', 'NN'), ('which', 'WDT'), ('is', 'VBZ'), ('known', 'VBN'), ('for', 'IN'), ('it', 'PRP'), (\"'s\", 'VBZ'), ('simply', 'RB'), ('a', 'DT'), ('reading', 'NN'), ('a', 'DT'), ('good', 'JJ'), ('book', 'NN'), ('.', '.')]\n"
          ],
          "name": "stdout"
        }
      ]
    },
    {
      "cell_type": "code",
      "metadata": {
        "id": "Qo1INVQ4XiXB"
      },
      "source": [
        ""
      ],
      "execution_count": null,
      "outputs": []
    }
  ]
}